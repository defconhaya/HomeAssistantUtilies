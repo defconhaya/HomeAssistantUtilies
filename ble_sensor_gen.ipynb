{
 "cells": [
  {
   "attachments": {},
   "cell_type": "markdown",
   "metadata": {},
   "source": [
    "# Xiaomi LYWSD03MMC thermometer yaml generator for Home Assistant"
   ]
  },
  {
   "attachments": {},
   "cell_type": "markdown",
   "metadata": {},
   "source": [
    "Activate individual topic for each sensor in Tasmota:  \n",
    ">`rule2 on system#boot do backlog MI32Option6 1; sensorretain 1 endon`\n"
   ]
  },
  {
   "attachments": {},
   "cell_type": "markdown",
   "metadata": {},
   "source": [
    "## Imports"
   ]
  },
  {
   "cell_type": "code",
   "execution_count": 22,
   "metadata": {},
   "outputs": [],
   "source": [
    "import re"
   ]
  },
  {
   "attachments": {},
   "cell_type": "markdown",
   "metadata": {},
   "source": [
    "## Data"
   ]
  },
  {
   "cell_type": "code",
   "execution_count": 23,
   "metadata": {},
   "outputs": [],
   "source": [
    "data = {\n",
    "\"living\":\"ATCb240b4\"\n",
    "}\n",
    "\n",
    "measurements ={\n",
    "\"Temperature\":[\"°C\",\"temperature\"], \n",
    "\"Humidity\":[\"%\",\"humidity\"], \n",
    "\"Battery\":[\"%\", \"battery\"]\n",
    "}\n",
    "\n",
    "template = \"\"\"\n",
    "- name: \"BLE %s %s\"\n",
    "  state_topic: \"tele/tasmota_ble/%s\"\n",
    "  value_template: \"{{value_json.%s}}\"\n",
    "  device_class: %s\n",
    "  unit_of_measurement: \"%s\"\n",
    "  unique_id: \"%s_%s\"\n",
    "  device:\n",
    "    name: \"Xiaomi BLE %s\"\n",
    "    identifiers: \"Xiaomi BLE %s\"\n",
    "    manufacturer: \"Xiaomi\"\n",
    "    model: \"LYWSD03MMC\"\n",
    "    \"\"\"\n"
   ]
  },
  {
   "cell_type": "code",
   "execution_count": 24,
   "metadata": {},
   "outputs": [
    {
     "name": "stdout",
     "output_type": "stream",
     "text": [
      "\n",
      "- name: \"BLE living Temperature\"\n",
      "  state_topic: \"tele/tasmota_ble/ATCb240b4\"\n",
      "  value_template: \"{{value_json.Temperature}}\"\n",
      "  device_class: temperature\n",
      "  unit_of_measurement: \"°C\"\n",
      "  unique_id: \"ATCb240b4_Temperature\"\n",
      "  device:\n",
      "    name: \"Xiaomi BLE living\"\n",
      "    identifiers: \"Xiaomi BLE living\"\n",
      "    manufacturer: \"Xiaomi\"\n",
      "    model: \"LYWSD03MMC\"\n",
      "    \n",
      "\n",
      "- name: \"BLE living Humidity\"\n",
      "  state_topic: \"tele/tasmota_ble/ATCb240b4\"\n",
      "  value_template: \"{{value_json.Humidity}}\"\n",
      "  device_class: humidity\n",
      "  unit_of_measurement: \"%\"\n",
      "  unique_id: \"ATCb240b4_Humidity\"\n",
      "  device:\n",
      "    name: \"Xiaomi BLE living\"\n",
      "    identifiers: \"Xiaomi BLE living\"\n",
      "    manufacturer: \"Xiaomi\"\n",
      "    model: \"LYWSD03MMC\"\n",
      "    \n",
      "\n",
      "- name: \"BLE living Battery\"\n",
      "  state_topic: \"tele/tasmota_ble/ATCb240b4\"\n",
      "  value_template: \"{{value_json.Battery}}\"\n",
      "  device_class: battery\n",
      "  unit_of_measurement: \"%\"\n",
      "  unique_id: \"ATCb240b4_Battery\"\n",
      "  device:\n",
      "    name: \"Xiaomi BLE living\"\n",
      "    identifiers: \"Xiaomi BLE living\"\n",
      "    manufacturer: \"Xiaomi\"\n",
      "    model: \"LYWSD03MMC\"\n",
      "    \n"
     ]
    }
   ],
   "source": [
    "for item in data:\n",
    "    # print(data[item])\n",
    "    for measurement in measurements:\n",
    "        temp = template % (item, measurement, data[item], measurement, measurements[measurement][1], measurements[measurement][0], data[item], measurement, item, item)\n",
    "        print (temp)\n",
    "    # break"
   ]
  }
 ],
 "metadata": {
  "kernelspec": {
   "display_name": "Python 3",
   "language": "python",
   "name": "python3"
  },
  "language_info": {
   "codemirror_mode": {
    "name": "ipython",
    "version": 3
   },
   "file_extension": ".py",
   "mimetype": "text/x-python",
   "name": "python",
   "nbconvert_exporter": "python",
   "pygments_lexer": "ipython3",
   "version": "3.10.2"
  },
  "orig_nbformat": 4,
  "vscode": {
   "interpreter": {
    "hash": "26de051ba29f2982a8de78e945f0abaf191376122a1563185a90213a26c5da77"
   }
  }
 },
 "nbformat": 4,
 "nbformat_minor": 2
}
